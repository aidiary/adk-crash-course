{
 "cells": [
  {
   "cell_type": "code",
   "execution_count": 1,
   "id": "6d2b9f1d",
   "metadata": {},
   "outputs": [
    {
     "name": "stdout",
     "output_type": "stream",
     "text": [
      "/home/mori/work/adk-crash-course\n"
     ]
    }
   ],
   "source": [
    "%cd .."
   ]
  },
  {
   "cell_type": "code",
   "execution_count": 2,
   "id": "3ed0e97f",
   "metadata": {},
   "outputs": [],
   "source": [
    "from dotenv import load_dotenv\n",
    "from google.adk.runners import Runner\n",
    "from google.adk.sessions import DatabaseSessionService\n",
    "from memory_agent.agent import memory_agent"
   ]
  },
  {
   "cell_type": "code",
   "execution_count": 3,
   "id": "6165e7ed",
   "metadata": {},
   "outputs": [
    {
     "data": {
      "text/plain": [
       "True"
      ]
     },
     "execution_count": 3,
     "metadata": {},
     "output_type": "execute_result"
    }
   ],
   "source": [
    "load_dotenv()"
   ]
  },
  {
   "cell_type": "code",
   "execution_count": 4,
   "id": "ba5985d6",
   "metadata": {},
   "outputs": [],
   "source": [
    "# 記憶を永続化するのにSQLiteデータベースを使う\n",
    "db_url = \"sqlite:///./my_agent_data.db\"\n",
    "session_service = DatabaseSessionService(db_url=db_url)"
   ]
  },
  {
   "cell_type": "code",
   "execution_count": 5,
   "id": "a9ea15d2",
   "metadata": {},
   "outputs": [],
   "source": [
    "# 初期状態を定義\n",
    "initial_state = {\n",
    "    \"user_name\": \"もりさん\",\n",
    "    \"reminders\": [],\n",
    "}"
   ]
  },
  {
   "cell_type": "code",
   "execution_count": 6,
   "id": "9f2acd56",
   "metadata": {},
   "outputs": [],
   "source": [
    "APP_NAME = \"Memory Agent\"\n",
    "USER_ID = \"mori\""
   ]
  },
  {
   "cell_type": "code",
   "execution_count": 7,
   "id": "a54720ce",
   "metadata": {},
   "outputs": [
    {
     "name": "stdout",
     "output_type": "stream",
     "text": [
      "sessions=[]\n",
      "Created new session: c4e6d883-14d7-40ff-81e7-96539cf15ea5\n"
     ]
    }
   ],
   "source": [
    "existing_session = await session_service.list_sessions(\n",
    "    app_name=APP_NAME,\n",
    "    user_id=USER_ID,\n",
    ")\n",
    "print(existing_session)\n",
    "\n",
    "if existing_session and len(existing_session.sessions) > 0:\n",
    "    # 既存のセッションを続行\n",
    "    SESSION_ID = existing_session.sessions[0].id\n",
    "    print(\"Continuing existing session: {SESSION_ID}\")\n",
    "else:\n",
    "    # 新しいセッションを開始\n",
    "    # この時点でデータベースファイルが作られる\n",
    "    new_session = await session_service.create_session(\n",
    "        app_name=APP_NAME,\n",
    "        user_id=USER_ID,\n",
    "        state=initial_state,\n",
    "    )\n",
    "    SESSION_ID = new_session.id\n",
    "    print(f\"Created new session: {SESSION_ID}\")"
   ]
  },
  {
   "cell_type": "code",
   "execution_count": 8,
   "id": "7a1dfcb1",
   "metadata": {},
   "outputs": [
    {
     "data": {
      "text/plain": [
       "Session(id='c4e6d883-14d7-40ff-81e7-96539cf15ea5', app_name='Memory Agent', user_id='mori', state={'user_name': 'もりさん', 'reminders': []}, events=[], last_update_time=1754613371.0)"
      ]
     },
     "execution_count": 8,
     "metadata": {},
     "output_type": "execute_result"
    }
   ],
   "source": [
    "new_session"
   ]
  },
  {
   "cell_type": "code",
   "execution_count": 9,
   "id": "910582ba",
   "metadata": {},
   "outputs": [
    {
     "data": {
      "text/plain": [
       "<google.adk.runners.Runner at 0x7b9bc8cf1ee0>"
      ]
     },
     "execution_count": 9,
     "metadata": {},
     "output_type": "execute_result"
    }
   ],
   "source": [
    "# エージェントを実行するRunnerを作成\n",
    "runner = Runner(\n",
    "    agent=memory_agent,\n",
    "    app_name=APP_NAME,\n",
    "    session_service=session_service,\n",
    ")\n",
    "runner"
   ]
  },
  {
   "cell_type": "code",
   "execution_count": 27,
   "id": "426e48fc",
   "metadata": {},
   "outputs": [
    {
     "name": "stderr",
     "output_type": "stream",
     "text": [
      "Warning: there are non-text parts in the response: ['thought_signature', 'function_call'], returning concatenated text result from text parts. Check the full candidates.content.parts accessor to get the full model response.\n"
     ]
    },
    {
     "name": "stdout",
     "output_type": "stream",
     "text": [
      "*** is_final_response: False\n",
      "video_metadata=None thought=None inline_data=None file_data=None thought_signature=b\"\\n\\xd8\\x01\\x01T\\xa8\\\\\\xee\\x8b\\x1aT<\\xe8\\xc9\\xa0\\x9c\\xe5a\\xb4WI\\xc1\\xbe\\xf6\\xf1_\\xd0*\\xd7k7f\\x99\\x86\\x81T#\\x0cC\\xd0\\xab\\xa7{\\x04hX\\xd4\\x90 \\xd6\\x1f\\x9dN i,\\x81\\xf2\\x97U\\xaee\\xd3\\xdc0\\x1av\\x9bV\\x05S\\xa7\\xa0\\xe3\\xd2\\x92-a\\xe2\\x15\\xd6r\\x1a*\\x8f\\xd8\\x8c9\\x15\\xbd\\xdeE\\xe4\\x17\\xc5/$\\x01=t>Ug\\xce\\xc8\\x7f\\x08\\x19v\\x1f%R\\x07\\xe7\\xc5!\\xf3\\x17\\xf22Z\\xee\\x03\\x95\\xad\\x1b\\xb6\\x1a\\xb1\\x9f\\xa0>\\xee\\xb4\\xaa\\xc7\\x04\\xbb?\\xafH\\x1a\\xa8\\xe73hu\\x93\\xdf\\xcb/\\x8ap\\xb5\\x88\\xe0\\xf3\\xb8\\xd3\\xc4Z1E\\x955\\xcf\\x96\\x1a2x\\xbea\\xfe?Ih\\xb6\\x9ek\\x9f\\xf4\\x9dU\\xa7k\\x8e\\xc0\\x9c\\x1e_}X\\xebP\\x16[Y\\xd3\\x1b\\xffqs\\xe5`\\xeey9\\xecW\\x8b\\xf1'`\\xf7\\xbe\\x8ayBn\" code_execution_result=None executable_code=None function_call=FunctionCall(\n",
      "  args={},\n",
      "  id='adk-a404cfe0-76a1-40db-ae4f-383418df96d3',\n",
      "  name='view_reminders'\n",
      ") function_response=None text=None\n",
      "====================================================================================================\n",
      "*** is_final_response: False\n",
      "video_metadata=None thought=None inline_data=None file_data=None thought_signature=None code_execution_result=None executable_code=None function_call=None function_response=FunctionResponse(\n",
      "  id='adk-a404cfe0-76a1-40db-ae4f-383418df96d3',\n",
      "  name='view_reminders',\n",
      "  response={\n",
      "    'action': 'view_reminders',\n",
      "    'count': 0,\n",
      "    'reminders': []\n",
      "  }\n",
      ") text=None\n",
      "====================================================================================================\n",
      "*** is_final_response: True\n",
      "video_metadata=None thought=None inline_data=None file_data=None thought_signature=None code_execution_result=None executable_code=None function_call=None function_response=None text='もりさん、現在リマインダーはありません。何か追加しますか？'\n",
      "====================================================================================================\n"
     ]
    }
   ],
   "source": [
    "from google.genai import types\n",
    "\n",
    "query = \"リマインダーはある？\"\n",
    "user_input = types.Content(role=\"user\", parts=[types.Part(text=query)])\n",
    "\n",
    "async for event in runner.run_async(\n",
    "    user_id=USER_ID,\n",
    "    session_id=SESSION_ID,\n",
    "    new_message=user_input,\n",
    "):\n",
    "    print(\"*** is_final_response:\", event.is_final_response())\n",
    "    if event.content and event.content.parts:\n",
    "        for part in event.content.parts:\n",
    "            print(part)\n",
    "    print(\"=\" * 100)"
   ]
  },
  {
   "cell_type": "code",
   "execution_count": 28,
   "id": "e81820cd",
   "metadata": {},
   "outputs": [
    {
     "name": "stderr",
     "output_type": "stream",
     "text": [
      "Warning: there are non-text parts in the response: ['thought_signature', 'function_call'], returning concatenated text result from text parts. Check the full candidates.content.parts accessor to get the full model response.\n"
     ]
    },
    {
     "name": "stdout",
     "output_type": "stream",
     "text": [
      "*** is_final_response: False\n",
      "video_metadata=None thought=None inline_data=None file_data=None thought_signature=b'\\n\\xa5\\x01\\x01T\\xa8\\\\\\xee\\xa6;\\x1cO\\x04G\\x1d\\xd3\\xd3\\x07\\xcd\\xd7\\x85#8\\x91\\xfa\\x9f@8XR\\xdb\\xf6\\xb0\\x1f\\xff\\x1d\\xcd\\xf6\\x19\\x9d\\xdb3OB\\x15c\\x16%\\xf5\\x83\\xe0\\x14MwGG\\xea\\xff\\xbf\\x90F<~\\xda\\x92\\xf1\\xa1\\x88\\xeb|^\\xff\\xff\\x9fd\\xe9\\xe2\\x80\\xcf,a\\x05\\x9d\\x8as_\\xaa\\xf1\\xad\\xd5n\\xe9\\x84\\xa86\\x8e\\x87\\xafGZ6FH!G\\\\\\xaf\\xbe\\xefd\\x8f\\x1f\\xf7.\\x8f\\x10\\xea\\x86\\x1f\\xb4\\xe2=\\\\\\xc5Jl\\x9b\\x14(i\\xc5\\xeaT8\\xdd\\xdf\\xd1$`V\\x16\\xd0B(=\\x11\\xfd\\x90\\xa4p!\\x00t\\x04\\x1f\\x00\"N\\x95\\xbae\\xdbN+t;\\x9a\\xe0' code_execution_result=None executable_code=None function_call=FunctionCall(\n",
      "  args={\n",
      "    'reminder': '牛乳を買う'\n",
      "  },\n",
      "  id='adk-740d30b9-10d0-4d65-b9e0-6f11585eb39e',\n",
      "  name='add_reminder'\n",
      ") function_response=None text=None\n",
      "====================================================================================================\n",
      "*** is_final_response: False\n",
      "video_metadata=None thought=None inline_data=None file_data=None thought_signature=None code_execution_result=None executable_code=None function_call=None function_response=FunctionResponse(\n",
      "  id='adk-740d30b9-10d0-4d65-b9e0-6f11585eb39e',\n",
      "  name='add_reminder',\n",
      "  response={\n",
      "    'action': 'add_reminder',\n",
      "    'message': 'リマインダーを追加しました: 牛乳を買う',\n",
      "    'reminder': '牛乳を買う'\n",
      "  }\n",
      ") text=None\n",
      "====================================================================================================\n",
      "*** is_final_response: True\n",
      "video_metadata=None thought=None inline_data=None file_data=None thought_signature=None code_execution_result=None executable_code=None function_call=None function_response=None text='はい、もりさん。「牛乳を買う」をリマインダーに追加しました。'\n",
      "====================================================================================================\n"
     ]
    }
   ],
   "source": [
    "query = \"牛乳を買うを追加して\"\n",
    "user_input = types.Content(role=\"user\", parts=[types.Part(text=query)])\n",
    "\n",
    "async for event in runner.run_async(\n",
    "    user_id=USER_ID,\n",
    "    session_id=SESSION_ID,\n",
    "    new_message=user_input,\n",
    "):\n",
    "    print(\"*** is_final_response:\", event.is_final_response())\n",
    "    if event.content and event.content.parts:\n",
    "        for part in event.content.parts:\n",
    "            print(part)\n",
    "    print(\"=\" * 100)"
   ]
  },
  {
   "cell_type": "code",
   "execution_count": 29,
   "id": "a105e7c3",
   "metadata": {},
   "outputs": [
    {
     "name": "stderr",
     "output_type": "stream",
     "text": [
      "Warning: there are non-text parts in the response: ['thought_signature', 'function_call'], returning concatenated text result from text parts. Check the full candidates.content.parts accessor to get the full model response.\n"
     ]
    },
    {
     "name": "stdout",
     "output_type": "stream",
     "text": [
      "*** is_final_response: False\n",
      "video_metadata=None thought=None inline_data=None file_data=None thought_signature=b\"\\n\\xa5\\x01\\x01T\\xa8\\\\\\xee\\xe1\\xe4\\x1a\\xae\\xfc9Q\\xe6\\x82\\xee\\xe9,9='rzO\\xdd\\x01n!Vxet\\x1cGO\\t\\xdd\\x8dH\\xad\\xa8_U1\\xf1\\x06^\\xd6/\\xa7t[\\xcd\\x9f\\x91 %\\xd1\\xd7H\\xee\\xe3E\\x8f\\x02\\x15\\x1b\\x0fn \\xc2\\x15\\xf96\\xb7\\xe5\\xa8\\xdc\\x1c\\x89\\x84\\xe3\\xd219\\x0b\\x8e[\\xc5\\xd2\\x9b\\xeb\\xc6\\xd8 a\\xa7\\x93\\xb2\\xc9J\\xb8l\\xa2\\x13m\\xe8\\x84:\\x90\\x0c\\x8d4\\xa9\\xecH=YR\\xf0\\x0eP\\x9e\\x0e\\xcdJ\\x83\\xd2\\x85\\xa4\\x94\\xf7\\xb7G~\\xb77\\xb98\\x80\\xd5\\x85\\xf6\\r\\xbe\\xa5M\\xac\\x99-\\x81G\\x11\\xbfu\\xe8)\\xb6\\xde3\\xf5-/\\r\\x14\\xee\" code_execution_result=None executable_code=None function_call=FunctionCall(\n",
      "  args={\n",
      "    'reminder': 'ADKを使ってみる'\n",
      "  },\n",
      "  id='adk-b639e683-e4b4-4c0a-bada-ac1b05b729a2',\n",
      "  name='add_reminder'\n",
      ") function_response=None text=None\n",
      "====================================================================================================\n",
      "*** is_final_response: False\n",
      "video_metadata=None thought=None inline_data=None file_data=None thought_signature=None code_execution_result=None executable_code=None function_call=None function_response=FunctionResponse(\n",
      "  id='adk-b639e683-e4b4-4c0a-bada-ac1b05b729a2',\n",
      "  name='add_reminder',\n",
      "  response={\n",
      "    'action': 'add_reminder',\n",
      "    'message': 'リマインダーを追加しました: ADKを使ってみる',\n",
      "    'reminder': 'ADKを使ってみる'\n",
      "  }\n",
      ") text=None\n",
      "====================================================================================================\n",
      "*** is_final_response: True\n",
      "video_metadata=None thought=None inline_data=None file_data=None thought_signature=None code_execution_result=None executable_code=None function_call=None function_response=None text='はい、もりさん。「ADKを使ってみる」をリマインダーに追加しました。'\n",
      "====================================================================================================\n"
     ]
    }
   ],
   "source": [
    "query = \"ADKを使ってみるを追加して\"\n",
    "user_input = types.Content(role=\"user\", parts=[types.Part(text=query)])\n",
    "\n",
    "async for event in runner.run_async(\n",
    "    user_id=USER_ID,\n",
    "    session_id=SESSION_ID,\n",
    "    new_message=user_input,\n",
    "):\n",
    "    print(\"*** is_final_response:\", event.is_final_response())\n",
    "    if event.content and event.content.parts:\n",
    "        for part in event.content.parts:\n",
    "            print(part)\n",
    "    print(\"=\" * 100)"
   ]
  },
  {
   "cell_type": "code",
   "execution_count": 30,
   "id": "9e811d23",
   "metadata": {},
   "outputs": [
    {
     "name": "stderr",
     "output_type": "stream",
     "text": [
      "Warning: there are non-text parts in the response: ['thought_signature', 'function_call'], returning concatenated text result from text parts. Check the full candidates.content.parts accessor to get the full model response.\n"
     ]
    },
    {
     "name": "stdout",
     "output_type": "stream",
     "text": [
      "*** is_final_response: False\n",
      "video_metadata=None thought=None inline_data=None file_data=None thought_signature=b'\\n\\xe6\\x04\\x01T\\xa8\\\\\\xeeR\\x01\\rK\\xb6\\x81\\xc7\\xb9\\xd1\\xec\\xbd\\xf1\\r\\x94\\x98#3\\xa7\\xe7\\x92j\\x00\\xe1\\x90 W\\xea\\x0b\\xbd\\\\\\x02\\xc81\\xaa\\x83y\\x8c\\xc1\\t\\x07\\r\\x94\\x86\\x05\\xe4\\xad \\xa6|3jO\\x14\\xaa\\x91\\xaf\\xbd\\xb3\\xe2\\x16M\\x88\\'\\xb0\\x93A\\xad\\xdd\\xfd.j\\xd8\\xc0\\xfbtw\\x85w ?\\x1a\\xd2\\x98\\xfe\\x17X\\x84\\xe4w\\xc6\\n\\x06\\x99\\x94|\\xe2\\xd0\\xf2\\x9f\\xeb\\x1f9\\x16r\\xe2GGX\\xe2s\\x17D\\x8fsY\\xc6\\x93\\x93W\\xbcQ-&p\\xd9\\x91\\xc2G\\xc6/2\\xd8\\x85>\\xc7\\x9b\\xdfu\\xaaNko\\xf2\\xee\\x1fS\\x0c\\x9c~\\xd2\\xc3y\\xfc+\\xa4\\x17\"\\x047ygK\\xc5D\\xe3\\xf2\\x9fs\\x16\\x819d\\xb7<T\\xeb\\x07|I\\xac\\xe0\\xc0\\xa0\\xdb\\x82\\x7f\\xa0n\\x06\\xbd\\xd0\\xef\\xc0rv_c?\\xc2\"\\xe8Z\\x90\\x02\\x0c-\\xb2\\xfd\\x92\\xbc>\\x8f\\xc0\\xa5\\xd1\\x8c\\xb1\\r>\\xda\\xf3\\xba\\x19\\xd5\\xa0a<\\xc1\\x9e\\xad\\x1f\\x1ch\\x8f\\xef\\xca\\xfe\\x1b[\\xde A\\xca\\xb5\\x11\\x92\\x17\\x8a#1\\x04\\xbc\\x82\\n\\xe6<\\x18DG\\xb8\\xdb\\xce\\x81}~\\x1c\\x7f\\xbbDr\\xdf\\x1a*_\\x96\\xe40\\x18\\xabUo{\\x95K\\xa3\\x00\\xaaS\\xe9\\xfac\\x8b\\xb1\\xe2\\xd1\\xed\\xa3\\xc4<{\\x90 b\\xd0\\xb6\\xa015P\\xa7H\\xed\\\\\\x9c\\xf1\\xac5\\x1e\\xdb+\\x12m\\xfc\\xfb\\xcc\\xd0\\t\\xc6\\xf6G\\xcf1\\x07\\x0b5\\x15c\\xad\\xaf\\xbc@\\xd3 \\xc7\\x13\\xe6s\\xfc\\x84\\xae\\x84\\xffy\\xf8R(w\\x08\\xf7\\xa2\\xc0\\x1a\\xf5\\x82\\xae\\x1b]\\xda\\x17\\x05\\xf6\\xabN;\\x18>\\xba\\xd54\\xda*#\\x8b\\x18\\xe8\\x85\\xfaNv\\x99\\x81\\xbc\\xd1F\\xbc\\x01\\x88|!|alR9r\\n \\xe6i\\xa1xp\\xe2\\xe7\\x1c$\\x89\\x07v\\x1d\\xe3\\x01\\x9a\\xe3\\xa0\\x982 ?\\xf7\\xc4\\x9b_U\\xe6|\\xb6)\\x04t\\x10\\x98%\\xcb\\xf2\\x17\\xa8\\xcf\\xe5\\xde5\\x8fQ\\xd2\\xca-\\xb6\\xf2\\xf5\\xaf)\\n\\xb0\\xa3\\xbc\\xbc\\x95\\xa7\\xce\\'\\x9bN\\xads\\x9dQ\\x00\\x98#\\x04n\\xec.P3\\x9f\\x97,\\'\\x95\\x82\\x84\\xf3t\\xc55\\x88\\x9c\\x7fM\\xaa\\x9c\\xc4W\\x92\\x89\\xf7m\\xb2\\x9cN\\xe4<U\\xc8p\\xa4}h<\\'m\\xffG%\\x82\\xf3\\xc0\\x7f\\xe3e\\x7ft\\x19@\\x00\\x178\\xc0\\x88$\\x91\\xd0\\x0f\\x16\\xcd-\\xdd\\x03\\xab\\x88\\xe6\\xb8\\x8a\\x90s* \\xdf(c\\xbe\\'\\x02@F\\xfe\\xc2\\t\\xf20\\xa8+:K\\x85\\xb7\\xeei\\x8b\\xca\\xd6_\\xe9\\x16K+4\\x85\\x9f\\xcf=`\\x1e\\xe5I\\xe1-V%\\x8e\\xf6\\xec\\x89\\xc7\\x18yu\\xe8' code_execution_result=None executable_code=None function_call=FunctionCall(\n",
      "  args={\n",
      "    'index': 1\n",
      "  },\n",
      "  id='adk-a9144247-74e4-41d0-b2cc-09cd78307ddb',\n",
      "  name='delete_reminder'\n",
      ") function_response=None text=None\n",
      "====================================================================================================\n",
      "*** is_final_response: False\n",
      "video_metadata=None thought=None inline_data=None file_data=None thought_signature=None code_execution_result=None executable_code=None function_call=None function_response=FunctionResponse(\n",
      "  id='adk-a9144247-74e4-41d0-b2cc-09cd78307ddb',\n",
      "  name='delete_reminder',\n",
      "  response={\n",
      "    'action': 'delete_reminder',\n",
      "    'deleted_reminder': '牛乳を買う',\n",
      "    'index': 1,\n",
      "    'message': '1 番目のリマインダー「牛乳を買う」を削除しました'\n",
      "  }\n",
      ") text=None\n",
      "====================================================================================================\n",
      "*** is_final_response: True\n",
      "video_metadata=None thought=None inline_data=None file_data=None thought_signature=None code_execution_result=None executable_code=None function_call=None function_response=None text='はい、もりさん。「牛乳を買う」というリマインダーを削除しました。'\n",
      "====================================================================================================\n"
     ]
    }
   ],
   "source": [
    "query = \"牛乳を買うは削除して\"\n",
    "user_input = types.Content(role=\"user\", parts=[types.Part(text=query)])\n",
    "\n",
    "async for event in runner.run_async(\n",
    "    user_id=USER_ID,\n",
    "    session_id=SESSION_ID,\n",
    "    new_message=user_input,\n",
    "):\n",
    "    print(\"*** is_final_response:\", event.is_final_response())\n",
    "    if event.content and event.content.parts:\n",
    "        for part in event.content.parts:\n",
    "            print(part)\n",
    "    print(\"=\" * 100)"
   ]
  },
  {
   "cell_type": "code",
   "execution_count": 31,
   "id": "04c151b6",
   "metadata": {},
   "outputs": [
    {
     "name": "stderr",
     "output_type": "stream",
     "text": [
      "Warning: there are non-text parts in the response: ['thought_signature', 'function_call'], returning concatenated text result from text parts. Check the full candidates.content.parts accessor to get the full model response.\n"
     ]
    },
    {
     "name": "stdout",
     "output_type": "stream",
     "text": [
      "*** is_final_response: False\n",
      "video_metadata=None thought=None inline_data=None file_data=None thought_signature=b\"\\n\\xf6\\x01\\x01T\\xa8\\\\\\xee\\xd4\\xc1\\xfa\\xde\\x11\\rY7M*~#\\x954\\x05\\x92\\xb9+\\x15\\xcf\\xd4q\\t\\xc2d\\xa9\\xb7\\xa5\\xee\\x83\\xb9PU\\xd5\\x0fo\\xe0\\xc8\\x1b\\xdb\\x8d*H\\xfdh\\xde\\xfb\\xedF\\xb4\\xe90#\\xc8\\xfc\\xda\\xe9\\xcd\\x9f\\xa7 uM)\\xec6\\xdeY\\xc1p\\x11\\xc1QI'\\xaa<\\xe4\\xe1\\xf7\\x17\\x11\\xda\\x8d\\xea\\x07\\n\\xb4\\x13\\x1fw\\xa9+[}?Y6\\xbc\\x97Z\\x7f\\x96\\x14\\x88y\\xee\\xbe\\x19\\x84\\xde\\xe6\\x05\\x80\\x1d\\xaa\\x80\\x912t\\x1eb*\\x1c[\\x85\\xfc\\xb3O\\x9cp\\x16J\\xfe\\xa3\\x89\\xf8\\xb7\\x8c\\xbb\\xc5L\\xb6\\x93S\\xfd\\x9f\\xbd\\xb9=\\xcb\\xc5\\xf3\\x8a\\xdc\\xfb~%y\\x89F\\x01\\xbdY\\xf1z\\x14\\x89:\\xf2\\xa2\\x90\\x87f\\xc3\\x1d\\xeb)\\xdf\\xf49\\n\\xab,\\xd1aj=\\x81\\xb4\\xf0\\x91\\x15%\\xc7*\\xe3\\xe4\\x97\\xfc\\xc2\\xec$t\\xbd\\x81 \\x86<\\x8d\\xa6\\xca\\xf4/B-Y\\xf2i/y\\xf07Z`\\xb0b<\\x1c\\xb4\\x87\\xfa\\xee\\xe8{\\x9e\\x11o\\xd5\\xb0\\xf6\" code_execution_result=None executable_code=None function_call=FunctionCall(\n",
      "  args={\n",
      "    'name': '森さん'\n",
      "  },\n",
      "  id='adk-87616a7b-d045-4c83-a727-4f96ace323ea',\n",
      "  name='update_user_name'\n",
      ") function_response=None text=None\n",
      "====================================================================================================\n",
      "*** is_final_response: False\n",
      "video_metadata=None thought=None inline_data=None file_data=None thought_signature=None code_execution_result=None executable_code=None function_call=None function_response=FunctionResponse(\n",
      "  id='adk-87616a7b-d045-4c83-a727-4f96ace323ea',\n",
      "  name='update_user_name',\n",
      "  response={\n",
      "    'action': 'update_user_name',\n",
      "    'message': 'ユーザーの名前を 森さん に更新しました',\n",
      "    'new_name': '森さん',\n",
      "    'old_name': 'もりさん'\n",
      "  }\n",
      ") text=None\n",
      "====================================================================================================\n",
      "*** is_final_response: True\n",
      "video_metadata=None thought=None inline_data=None file_data=None thought_signature=None code_execution_result=None executable_code=None function_call=None function_response=None text='かしこまりました！森さん、これであなたのことを森さんとお呼びしますね。\\n'\n",
      "====================================================================================================\n"
     ]
    }
   ],
   "source": [
    "query = \"私を森さんと呼んで\"\n",
    "user_input = types.Content(role=\"user\", parts=[types.Part(text=query)])\n",
    "\n",
    "async for event in runner.run_async(\n",
    "    user_id=USER_ID,\n",
    "    session_id=SESSION_ID,\n",
    "    new_message=user_input,\n",
    "):\n",
    "    print(\"*** is_final_response:\", event.is_final_response())\n",
    "    if event.content and event.content.parts:\n",
    "        for part in event.content.parts:\n",
    "            print(part)\n",
    "    print(\"=\" * 100)"
   ]
  },
  {
   "cell_type": "code",
   "execution_count": 32,
   "id": "c0504e03",
   "metadata": {},
   "outputs": [
    {
     "name": "stderr",
     "output_type": "stream",
     "text": [
      "Warning: there are non-text parts in the response: ['thought_signature', 'function_call'], returning concatenated text result from text parts. Check the full candidates.content.parts accessor to get the full model response.\n"
     ]
    },
    {
     "name": "stdout",
     "output_type": "stream",
     "text": [
      "*** is_final_response: False\n",
      "video_metadata=None thought=None inline_data=None file_data=None thought_signature=b'\\n\\x8c\\x01\\x01T\\xa8\\\\\\xee\\x18\\x94N\\xf1\\x0c\\xa5E\\xf9F\\xf5\\xa7*\\x10\\xaf\\x9c\\xa7\\xee\\xc5\\x04\\xb9\\x01\\x0f\\xcb\\xa4R\\xdd\\x0cjI\\x17\\x8da\\xf6\\x06\\x93\\xe0P\\xa5\\xe1\\x85\\xb5\\xcd\\x1br\\xfbuv=\\xf8\\x05\\\\\\x8f\\\\lB\\xba\\xb5TyJ\\xa5\\xc1-\\x0c0\\xe2\\x19s7\\xc5\\xb5\\xd2\\xa2\\xaa\\nx\\x11\\xc1\\xf1\\xe5}\\xa1\\xc9\\xb7!\\x9d\\x9a\\x9eU\\xc7\\x0f\\x1foj\\xb4@\\xb5\\x06\\xca\\xd0\\xc6-]h\\x10\\x01\\xb9\\r\\x9b\\x91\\xa5\\\\\\xed\\x89\\xfef\\x15\\xd0\\x9d60Mst\\xfb\\x149\\xe3\\xd7\\x1c.\\xf2>3\\x82' code_execution_result=None executable_code=None function_call=FunctionCall(\n",
      "  args={},\n",
      "  id='adk-acfabd70-7e1b-4358-8c89-d47604a59c7f',\n",
      "  name='view_reminders'\n",
      ") function_response=None text=None\n",
      "====================================================================================================\n",
      "*** is_final_response: False\n",
      "video_metadata=None thought=None inline_data=None file_data=None thought_signature=None code_execution_result=None executable_code=None function_call=None function_response=FunctionResponse(\n",
      "  id='adk-acfabd70-7e1b-4358-8c89-d47604a59c7f',\n",
      "  name='view_reminders',\n",
      "  response={\n",
      "    'action': 'view_reminders',\n",
      "    'count': 1,\n",
      "    'reminders': [\n",
      "      'ADKを使ってみる',\n",
      "    ]\n",
      "  }\n",
      ") text=None\n",
      "====================================================================================================\n",
      "*** is_final_response: True\n",
      "video_metadata=None thought=None inline_data=None file_data=None thought_signature=None code_execution_result=None executable_code=None function_call=None function_response=None text='森さん、現在のリマインダーはこちらです。\\n\\n1. ADKを使ってみる'\n",
      "====================================================================================================\n"
     ]
    }
   ],
   "source": [
    "query = \"現在のリマインダーは？\"\n",
    "user_input = types.Content(role=\"user\", parts=[types.Part(text=query)])\n",
    "\n",
    "async for event in runner.run_async(\n",
    "    user_id=USER_ID,\n",
    "    session_id=SESSION_ID,\n",
    "    new_message=user_input,\n",
    "):\n",
    "    print(\"*** is_final_response:\", event.is_final_response())\n",
    "    if event.content and event.content.parts:\n",
    "        for part in event.content.parts:\n",
    "            print(part)\n",
    "    print(\"=\" * 100)"
   ]
  }
 ],
 "metadata": {
  "kernelspec": {
   "display_name": "adk-crash-course",
   "language": "python",
   "name": "python3"
  },
  "language_info": {
   "codemirror_mode": {
    "name": "ipython",
    "version": 3
   },
   "file_extension": ".py",
   "mimetype": "text/x-python",
   "name": "python",
   "nbconvert_exporter": "python",
   "pygments_lexer": "ipython3",
   "version": "3.12.9"
  }
 },
 "nbformat": 4,
 "nbformat_minor": 5
}
